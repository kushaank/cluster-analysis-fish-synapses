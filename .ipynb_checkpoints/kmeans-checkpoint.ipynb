{
 "cells": [
  {
   "cell_type": "code",
   "execution_count": 1,
   "metadata": {
    "collapsed": true
   },
   "outputs": [],
   "source": [
    "#!/usr/bin/env python3\n",
    "# -*- coding: utf-8 -*-\n",
    "\"\"\"\n",
    "Created on Mon Aug 14 14:47:38 2017\n",
    "\n",
    "@author: kushaankumar\n",
    "\"\"\"\n",
    "import pandas as pd\n",
    "import numpy as np\n",
    "import os\n",
    "from sklearn.cluster import KMeans\n",
    "import matplotlib.pyplot as plt"
   ]
  },
  {
   "cell_type": "code",
   "execution_count": null,
   "metadata": {
    "collapsed": true
   },
   "outputs": [],
   "source": [
    "directory = \"Dataset\"\n",
    "\n",
    "\n",
    "subfolders = [os.path.relpath(f, directory) for f in os.scandir(directory) if f.is_dir() ]    \n",
    "pre = dict.fromkeys(subfolders)\n",
    "post = dict.fromkeys(subfolders)\n",
    "\n",
    "for data in subfolders:\n",
    "    for root,dirs,files in os.walk(directory+\"/\"+data):\n",
    "        for file in files:\n",
    "            subdirectory = os.path.relpath(root,directory)\n",
    "            \n",
    "            if pre[subdirectory] is None:\n",
    "                pre[subdirectory] = pd.read_csv(os.path.abspath(directory+\"/\"+subdirectory+\"/\"+file))\n",
    "            else:\n",
    "                post[subdirectory] = pd.read_csv(os.path.abspath(directory+\"/\"+subdirectory+\"/\"+file))\n",
    "                \n",
    "\n",
    "pre_intensities = {}\n",
    "post_intensities = {}\n",
    "for key in pre:\n",
    "    pre_df = pre[key]\n",
    "    pre_df.drop(pre_df[pre_df.override != 7].index, inplace=True)\n",
    "    pre_intensities[key] = pre[key][['X','Y','Z']]\n",
    "\n",
    "for key in post:  \n",
    "    post_df = post[key]\n",
    "    post_df.drop(post_df[post_df.override != 7].index, inplace=True)\n",
    "    post_intensities[key] = post[key][['X','Y','Z']]"
   ]
  },
  {
   "cell_type": "code",
   "execution_count": null,
   "metadata": {},
   "outputs": [
    {
     "name": "stdout",
     "output_type": "stream",
     "text": [
      "checkpoint\n"
     ]
    },
    {
     "name": "stderr",
     "output_type": "stream",
     "text": [
      "/Users/kushaankumar/anaconda/lib/python3.6/site-packages/ipykernel_launcher.py:55: DeprecationWarning: \n",
      ".ix is deprecated. Please use\n",
      ".loc for label based indexing or\n",
      ".iloc for positional indexing\n",
      "\n",
      "See the documentation here:\n",
      "http://pandas.pydata.org/pandas-docs/stable/indexing.html#deprecate_ix\n",
      "/Users/kushaankumar/anaconda/lib/python3.6/site-packages/pandas/core/indexing.py:179: SettingWithCopyWarning: \n",
      "A value is trying to be set on a copy of a slice from a DataFrame\n",
      "\n",
      "See the caveats in the documentation: http://pandas.pydata.org/pandas-docs/stable/indexing.html#indexing-view-versus-copy\n",
      "  self._setitem_with_indexer(indexer, value)\n",
      "/Users/kushaankumar/anaconda/lib/python3.6/site-packages/ipykernel_launcher.py:58: SettingWithCopyWarning: \n",
      "A value is trying to be set on a copy of a slice from a DataFrame\n",
      "\n",
      "See the caveats in the documentation: http://pandas.pydata.org/pandas-docs/stable/indexing.html#indexing-view-versus-copy\n"
     ]
    }
   ],
   "source": [
    "#==============================================================================\n",
    "# for pre_df,post_df in zip(pre.values(), post.values()):\n",
    "#     print(pre_df.shape, post_df.shape)\n",
    "#==============================================================================\n",
    "\n",
    "#==============================================================================\n",
    "# Rot_l1: 2016-01-16_A\n",
    "# Rot_l2: 2017-03-16_A\n",
    "# Rot_l3: 2017-03-17_B\n",
    "# Rot_nl1: 2017-02-02_A\n",
    "# Rot_nl2: 2017-03-29_C\n",
    "# Rot_nl3: 2017-04-12_A\n",
    "#==============================================================================\n",
    "\n",
    "\n",
    "Rot_l1 = np.array([[0.997996, -0.031025, 0.055144, -12.004886],\n",
    "                 [.030149, 0.999407, 0.016648, -66.594376],\n",
    "                 [0.055628, -0.014953, 0.998340, 57.223022],\n",
    "                 [0.000000, 0.000000, 0.000000, 1.000000]])\n",
    "\n",
    "Rot_l2 =np.array([[0.995406, -0.017769, 0.094081, 17.602526], \n",
    "                  [0.017286, 0.999833, 0.005950, -6.332537], \n",
    "                  [-0.094171, -0.004297, 0.995547, 62.415340], \n",
    "                  [0.000000, 0.000000, 0.000000, 1.000000]])\n",
    "\n",
    "Rot_l3 = np.array([[0.991936, -0.126055, -0.013188, 85.725159], \n",
    "                   [0.126061, 0.992022, -0.000387, -70.314095], \n",
    "                   [0.013132, -0.001279, 0.999913, 4.820217], \n",
    "                   [0.000000, 0.000000, 0.000000, 1.000000]])\n",
    "\n",
    "\n",
    "Rot_nl1 = np.array([[0.998969, -0.032752, -0.031452, 32.868774], \n",
    "                    [0.032451, 0.999423, -0.010008, -17.975409], \n",
    "                    [0.031761, 0.008977, 0.999455, -23.138821], \n",
    "                    [0.000000, 0.000000, 0.000000, 1.000000]])\n",
    "\n",
    "Rot_nl2 = np.array([[0.995969, -0.089516, -0.005645, 71.939552], \n",
    "                    [0.089322, 0.995598, -0.028402, -44.920918], \n",
    "                    [0.008162, 0.027783, 0.999581, -13.377362], \n",
    "                    [0.000000, 0.000000, 0.000000, 1.000000]])\n",
    "\n",
    "Rot_nl3 = np.array([[0.995535, 0.094183, 0.006272, -60.612293], \n",
    "                    [-0.094357, 0.994777, 0.038937, 43.265373], \n",
    "                    [-0.002572, -0.039355, 0.999222, 17.586245], \n",
    "                    [0.000000, 0.000000, 0.000000, 1.000000]])\n",
    "    \n",
    "rotation_matrices = {\"2016-01-16_A\": Rot_l1, \"2017-03-16_A\": Rot_l2, \"2017-03-17_B\": Rot_l3, \"2017-02-02_A\": Rot_nl1, \"2017-03-29_C\": Rot_nl2, \"2017-04-12_A\": Rot_nl3} \n",
    "#print(post_intensities[\"2016-01-16_A\"].iloc[0])\n",
    "for key,value in post_intensities.items():\n",
    "    \n",
    "    rotation_matrix = rotation_matrices[key]\n",
    "    #print(value.iloc[0])    \n",
    "    for i in value.index:\n",
    "        temp = np.append(np.asarray(value.ix[i]).tolist(), [1])\n",
    "        temp = [int(i) for i in temp]\n",
    "        to_rotate = np.dot(rotation_matrix, temp)\n",
    "        value.ix[i] = to_rotate[:-1]\n",
    "    #print(value.iloc[0])\n",
    "print(post_intensities[\"2016-01-16_A\"].iloc[0])\n",
    "\n",
    "print(\"checkpoint\")"
   ]
  },
  {
   "cell_type": "code",
   "execution_count": null,
   "metadata": {
    "collapsed": true
   },
   "outputs": [],
   "source": [
    "kmeans = KMeans(n_clusters=3, random_state=0).fit(post_intensities[\"2016-01-16_A\"].as_matrix())\n",
    "print(kmeans.labels_)\n",
    "centroids = kmeans.cluster_centers_\n",
    "print(centroids)\n",
    "\n",
    "fig = plt.figure()\n",
    "ax = fig.add_subplot(111, projection='3d')\n",
    "x = np.array(post_intensities[\"2016-01-16_A\"]['X'])\n",
    "y = np.array(post_intensities[\"2016-01-16_A\"]['Y'])\n",
    "z = np.array(post_intensities[\"2016-01-16_A\"]['Z'])\n",
    "\n",
    "ax.scatter(x,y,z, marker=\"s\", c=kmeans.labels_, s=40, cmap=\"RdBu\")\n",
    "\n",
    "plt.show()"
   ]
  },
  {
   "cell_type": "code",
   "execution_count": null,
   "metadata": {
    "collapsed": true
   },
   "outputs": [],
   "source": []
  },
  {
   "cell_type": "code",
   "execution_count": null,
   "metadata": {
    "collapsed": true
   },
   "outputs": [],
   "source": []
  }
 ],
 "metadata": {
  "kernelspec": {
   "display_name": "Python 3",
   "language": "python",
   "name": "python3"
  },
  "language_info": {
   "codemirror_mode": {
    "name": "ipython",
    "version": 3
   },
   "file_extension": ".py",
   "mimetype": "text/x-python",
   "name": "python",
   "nbconvert_exporter": "python",
   "pygments_lexer": "ipython3",
   "version": "3.6.1"
  }
 },
 "nbformat": 4,
 "nbformat_minor": 2
}
